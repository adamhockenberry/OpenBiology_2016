{
 "cells": [
  {
   "cell_type": "markdown",
   "metadata": {},
   "source": [
    "# Some nice features to import"
   ]
  },
  {
   "cell_type": "code",
   "execution_count": null,
   "metadata": {
    "collapsed": false
   },
   "outputs": [],
   "source": [
    "%load_ext autoreload\n",
    "%autoreload 2\n",
    "%matplotlib inline"
   ]
  },
  {
   "cell_type": "markdown",
   "metadata": {},
   "source": [
    "# Library imports"
   ]
  },
  {
   "cell_type": "code",
   "execution_count": null,
   "metadata": {
    "collapsed": false
   },
   "outputs": [],
   "source": [
    "import trans_eff_library\n",
    "import json\n",
    "from matplotlib import pyplot as plt\n",
    "\n",
    "import numpy as np\n",
    "from scipy import stats"
   ]
  },
  {
   "cell_type": "markdown",
   "metadata": {},
   "source": [
    "# Content\n",
    "## First read in the datasets"
   ]
  },
  {
   "cell_type": "code",
   "execution_count": null,
   "metadata": {
    "collapsed": false
   },
   "outputs": [],
   "source": [
    "###############################################################################################################\n",
    "fwd_ribo_prof_cc = '../Data/wiggle_data/Caulo_RP_rich_f.wig'\n",
    "rev_ribo_prof_cc = '../Data/wiggle_data/Caulo_RP_rich_r.wig'\n",
    "fwd_rnaseq_cc = '../Data/wiggle_data/Caulo_mrna_rich_f.wig'\n",
    "rev_rnaseq_cc = '../Data/wiggle_data/Caulo_mrna_rich_r.wig'\n",
    "genome_cc = '../Data/Genomes/NA1000_JMS.gbk'\n",
    "profilingDict_CC, fivePrimeProfile_CC, sequenceDict_CC, fivePrimeSeqDict_CC, mrnaDict_CC, fivePrimeMRNA_CC =\\\n",
    "                trans_eff_library.load_data(fwd_ribo_prof_cc, rev_ribo_prof_cc, fwd_rnaseq_cc, rev_rnaseq_cc, genome_cc)\n",
    "\n",
    "###############################################################################################################\n",
    "###############################################################################################################\n",
    "fwd_ribo_prof_ec = '../Data/wiggle_data/GSE53767_fp_rdm_pooled_f.wig'\n",
    "rev_ribo_prof_ec = '../Data/wiggle_data/GSE53767_fp_rdm_pooled_r.wig'\n",
    "fwd_rnaseq_ec = '../Data/wiggle_data/GSE53767_mrna-rdm-pooled_f.wig'\n",
    "rev_rnaseq_ec = '../Data/wiggle_data/GSE53767_mrna-rdm-pooled_r.wig'\n",
    "genome_ec = '../Data/Genomes/oldEcoli.gb'\n",
    "profilingDict_EC, fivePrimeProfile_EC, sequenceDict_EC, fivePrimeSeqDict_EC, mrnaDict_EC, fivePrimeMRNA_EC =\\\n",
    "                trans_eff_library.load_data(fwd_ribo_prof_ec, rev_ribo_prof_ec, fwd_rnaseq_ec, rev_rnaseq_ec, genome_ec)    \n",
    "\n",
    "###############################################################################################################\n",
    "###############################################################################################################\n",
    "fwd_ribo_prof_bs = '../Data/wiggle_data/bacillus_ribosome_f.txt'\n",
    "rev_ribo_prof_bs = '../Data/wiggle_data/bacillus_ribosome_r.txt'\n",
    "fwd_rnaseq_bs = '../Data/wiggle_data/bacillus_mrna_f.txt'\n",
    "rev_rnaseq_bs = '../Data/wiggle_data/bacillus_mrna_r.txt'\n",
    "genome_bs = '../Data/Genomes/bacillus.gb'\n",
    "profilingDict_BS, fivePrimeProfile_BS, sequenceDict_BS, fivePrimeSeqDict_BS, mrnaDict_BS, fivePrimeMRNA_BS =\\\n",
    "                trans_eff_library.load_data(fwd_ribo_prof_bs, rev_ribo_prof_bs, fwd_rnaseq_bs, rev_rnaseq_bs, genome_bs)"
   ]
  },
  {
   "cell_type": "markdown",
   "metadata": {},
   "source": [
    "## Visualizing ribosome density and mRNA seq reads for a given gene"
   ]
  },
  {
   "cell_type": "markdown",
   "metadata": {},
   "source": [
    "Where gene_name is a valid key in both profilingDict_EC and mrnaDict_EC\n",
    "\n",
    "Genbank files from above were loaded such that locus_tag 's are they keys to these dictionaries"
   ]
  },
  {
   "cell_type": "code",
   "execution_count": null,
   "metadata": {
    "collapsed": false
   },
   "outputs": [],
   "source": [
    "gene_name = 'b0138'\n",
    "trans_eff_library.example_profile(gene_name, profilingDict_EC, mrnaDict_EC)"
   ]
  },
  {
   "cell_type": "markdown",
   "metadata": {},
   "source": [
    "## Getting dictionaries of Translation Efficiency and mRNA abundance"
   ]
  },
  {
   "cell_type": "code",
   "execution_count": null,
   "metadata": {
    "collapsed": false
   },
   "outputs": [],
   "source": [
    "coverage_requirement = 75 #100-percentage of bases required to have a read in order to include in analysis\n",
    "length_requirement = 90 #Self explanatory, length of genes required for inclusion\n",
    "end_bases_to_ignore = 0 #Potential biases related to initiation may warrant excluding x number of bases from gene ends from analysis\n",
    "\n",
    "transEffDict_CC, mrnaExpDict_CC= \\\n",
    "    trans_eff_library.get_efficiencies(profilingDict_CC,\\\n",
    "                                       mrnaDict_CC,\\\n",
    "                                       length_requirement,\\\n",
    "                                       coverage_requirement,\\\n",
    "                                       end_bases_to_ignore)\n",
    "\n",
    "###############################################################################################################\n",
    "###############################################################################################################\n",
    "transEffDict_EC, mrnaExpDict_EC = \\\n",
    "    trans_eff_library.get_efficiencies(profilingDict_EC,\\\n",
    "                                       mrnaDict_EC,\\\n",
    "                                       length_requirement,\\\n",
    "                                       coverage_requirement,\\\n",
    "                                       end_bases_to_ignore)\n",
    "###############################################################################################################\n",
    "###############################################################################################################\n",
    "transEffDict_BS, mrnaExpDict_BS = \\\n",
    "    trans_eff_library.get_efficiencies(profilingDict_BS,\\\n",
    "                                       mrnaDict_BS,\\\n",
    "                                       length_requirement,\\\n",
    "                                       coverage_requirement,\\\n",
    "                                       end_bases_to_ignore)\n",
    "\n",
    "print(len(transEffDict_CC.values()))\n",
    "print(len(transEffDict_EC.values()))\n",
    "print(len(transEffDict_BS.values()))"
   ]
  },
  {
   "cell_type": "markdown",
   "metadata": {},
   "source": [
    "## Plotting some histograms of normalized values"
   ]
  },
  {
   "cell_type": "code",
   "execution_count": null,
   "metadata": {
    "collapsed": false
   },
   "outputs": [],
   "source": [
    "labels = ['C. crescentus', 'E. coli', 'B. subtilis']\n",
    "trans_eff_library.trans_eff_hist(transEffDict_CC, transEffDict_EC, transEffDict_BS, labels)"
   ]
  },
  {
   "cell_type": "code",
   "execution_count": null,
   "metadata": {
    "collapsed": false
   },
   "outputs": [],
   "source": [
    "with open('../Data/Ecoli_rich_teff_cov={}_len={}_ignore={}.json'.format(coverage_requirement, length_requirement, end_bases_to_ignore), 'w') as outfile:\n",
    "    json.dump(transEffDict_EC, outfile)\n",
    "with open('../Data/Ecoli_rich_mrna_cov={}_len={}_ignore={}.json'.format(coverage_requirement, length_requirement, end_bases_to_ignore), 'w') as outfile:\n",
    "    json.dump(mrnaExpDict_EC, outfile)\n",
    "\n",
    "\n",
    "######\n",
    "with open('../Data/Ccrescentus_rich_teff_cov={}_len={}_ignore={}.json'.format(coverage_requirement, length_requirement, end_bases_to_ignore), 'w') as outfile:\n",
    "    json.dump(transEffDict_CC, outfile)\n",
    "with open('../Data/Ccrescentus_rich_mrna_cov={}_len={}_ignore={}.json'.format(coverage_requirement, length_requirement, end_bases_to_ignore), 'w') as outfile:\n",
    "    json.dump(mrnaExpDict_CC, outfile)\n",
    "    \n",
    "#####\n",
    "with open('../Data/Bsubtilis_rich_teff_cov={}_len={}_ignore={}.json'.format(coverage_requirement, length_requirement, end_bases_to_ignore), 'w') as outfile:\n",
    "    json.dump(transEffDict_BS, outfile)\n",
    "with open('../Data/Bsubtilis_rich_mrna_cov={}_len={}_ignore={}.json'.format(coverage_requirement, length_requirement, end_bases_to_ignore), 'w') as outfile:\n",
    "    json.dump(mrnaExpDict_BS, outfile)"
   ]
  },
  {
   "cell_type": "markdown",
   "metadata": {},
   "source": [
    "# Buskirk datasets"
   ]
  },
  {
   "cell_type": "code",
   "execution_count": null,
   "metadata": {
    "collapsed": false
   },
   "outputs": [],
   "source": [
    "fwd_ribo_prof = '../Data/wiggle_data/Buskirk_rpf_f.wig'\n",
    "rev_ribo_prof = '../Data/wiggle_data/Buskirk_rpf_r.wig'\n",
    "fwd_rnaseq = '../Data/wiggle_data/Buskirk_RNA_f.wig'\n",
    "rev_rnaseq = '../Data/wiggle_data/Buskirk_RNA_r.wig'\n",
    "\n",
    "genome = '../Data/Genomes/oldEcoli.gb'\n",
    "\n",
    "profilingDict, fivePrimeProfile, sequenceDict, fivePrimeSeqDict, mrnaDict, fivePrimeMRNA =\\\n",
    "                trans_eff_library.load_data(fwd_ribo_prof, rev_ribo_prof, fwd_rnaseq, rev_rnaseq, genome, simple_wig=False)\n",
    "\n",
    "coverage_requirement = 75 #100-percentage of bases required to have a read in order to include in analysis\n",
    "length_requirement = 90 #Self explanatory, length of genes required for inclusion\n",
    "end_bases_to_ignore = 0 #Potential biases related to initiation may warrant excluding x number of bases from gene ends from analysis\n",
    "\n",
    "transEffDict, mrnaExpDict = \\\n",
    "    trans_eff_library.get_efficiencies(profilingDict,\\\n",
    "                                       mrnaDict,\\\n",
    "                                       length_requirement,\\\n",
    "                                       coverage_requirement,\\\n",
    "                                       end_bases_to_ignore)\n",
    "    \n",
    "print(len(transEffDict.values()))\n",
    "plt.figure()\n",
    "plt.hist(list(transEffDict.values()))\n",
    "\n",
    "\n",
    "with open('../Data/Buskirk1_teff.json', 'w') as outfile:\n",
    "    json.dump(transEffDict, outfile)\n",
    "with open('../Data/Buskirk1_mrna.json', 'w') as outfile:\n",
    "    json.dump(mrnaExpDict, outfile)"
   ]
  },
  {
   "cell_type": "code",
   "execution_count": null,
   "metadata": {
    "collapsed": false
   },
   "outputs": [],
   "source": [
    "fwd_ribo_prof = '../Data/wiggle_data/Buskirk2_rpf_f.wig'\n",
    "rev_ribo_prof = '../Data/wiggle_data/Buskirk2_rpf_r.wig'\n",
    "fwd_rnaseq = '../Data/wiggle_data/Buskirk2_RNA_f.wig'\n",
    "rev_rnaseq = '../Data/wiggle_data/Buskirk2_RNA_r.wig'\n",
    "\n",
    "genome = '../Data/Genomes/oldEcoli.gb'\n",
    "\n",
    "profilingDict, fivePrimeProfile, sequenceDict, fivePrimeSeqDict, mrnaDict, fivePrimeMRNA =\\\n",
    "                trans_eff_library.load_data(fwd_ribo_prof, rev_ribo_prof, fwd_rnaseq, rev_rnaseq, genome, simple_wig=False)\n",
    "\n",
    "coverage_requirement = 75 #100-percentage of bases required to have a read in order to include in analysis\n",
    "length_requirement = 90 #Self explanatory, length of genes required for inclusion\n",
    "end_bases_to_ignore = 0 #Potential biases related to initiation may warrant excluding x number of bases from gene ends from analysis\n",
    "\n",
    "transEffDict, mrnaExpDict = \\\n",
    "    trans_eff_library.get_efficiencies(profilingDict,\\\n",
    "                                       mrnaDict,\\\n",
    "                                       length_requirement,\\\n",
    "                                       coverage_requirement,\\\n",
    "                                       end_bases_to_ignore)\n",
    "    \n",
    "print(len(transEffDict.values()))\n",
    "plt.figure()\n",
    "plt.hist(list(transEffDict.values()))\n",
    "\n",
    "\n",
    "with open('../Data/Buskirk2_teff.json', 'w') as outfile:\n",
    "    json.dump(transEffDict, outfile)\n",
    "with open('../Data/Buskirk2_mrna.json', 'w') as outfile:\n",
    "    json.dump(mrnaExpDict, outfile)"
   ]
  },
  {
   "cell_type": "code",
   "execution_count": null,
   "metadata": {
    "collapsed": false
   },
   "outputs": [],
   "source": []
  },
  {
   "cell_type": "code",
   "execution_count": null,
   "metadata": {
    "collapsed": false
   },
   "outputs": [],
   "source": []
  }
 ],
 "metadata": {
  "kernelspec": {
   "display_name": "Python 3",
   "language": "python",
   "name": "python3"
  },
  "language_info": {
   "codemirror_mode": {
    "name": "ipython",
    "version": 3
   },
   "file_extension": ".py",
   "mimetype": "text/x-python",
   "name": "python",
   "nbconvert_exporter": "python",
   "pygments_lexer": "ipython3",
   "version": "3.4.4"
  },
  "toc": {
   "colors": {
    "hover_highlight": "#DAA520",
    "navigate_num": "#000000",
    "navigate_text": "#333333",
    "running_highlight": "#FF0000",
    "selected_highlight": "#FFD700",
    "sidebar_border": "#EEEEEE",
    "wrapper_background": "#FFFFFF"
   },
   "moveMenuLeft": true,
   "nav_menu": {
    "height": "156px",
    "width": "252px"
   },
   "navigate_menu": true,
   "number_sections": true,
   "sideBar": true,
   "threshold": 4,
   "toc_cell": false,
   "toc_section_display": "block",
   "toc_window_display": false,
   "widenNotebook": false
  }
 },
 "nbformat": 4,
 "nbformat_minor": 0
}
